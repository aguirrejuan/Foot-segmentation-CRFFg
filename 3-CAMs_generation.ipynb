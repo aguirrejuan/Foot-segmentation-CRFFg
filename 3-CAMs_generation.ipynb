{
  "cells": [
    {
      "attachments": {},
      "cell_type": "markdown",
      "metadata": {},
      "source": [
        "# CAMs Generations "
      ]
    },
    {
      "attachments": {},
      "cell_type": "markdown",
      "metadata": {},
      "source": [
        "Because our methods are globally interpretable, we generate the CAMS to be stored persistently."
      ]
    },
    {
      "cell_type": "code",
      "execution_count": null,
      "metadata": {
        "colab": {
          "base_uri": "https://localhost:8080/"
        },
        "id": "UBrsfEdhqjxE",
        "outputId": "2083a626-9045-47e7-9002-9fdd6f251f1b"
      },
      "outputs": [
        {
          "name": "stdout",
          "output_type": "stream",
          "text": [
            "\u001b[?25l     \u001b[90m━━━━━━━━━━━━━━━━━━━━━━━━━━━━━━━━━━━━━━━━\u001b[0m \u001b[32m0.0/2.0 MB\u001b[0m \u001b[31m?\u001b[0m eta \u001b[36m-:--:--\u001b[0m\r\u001b[2K     \u001b[91m━━━━━\u001b[0m\u001b[91m╸\u001b[0m\u001b[90m━━━━━━━━━━━━━━━━━━━━━━━━━━━━━━━━━━\u001b[0m \u001b[32m0.3/2.0 MB\u001b[0m \u001b[31m8.4 MB/s\u001b[0m eta \u001b[36m0:00:01\u001b[0m\r\u001b[2K     \u001b[91m━━━━━━━━━━━\u001b[0m\u001b[90m╺\u001b[0m\u001b[90m━━━━━━━━━━━━━━━━━━━━━━━━━━━━\u001b[0m \u001b[32m0.6/2.0 MB\u001b[0m \u001b[31m7.8 MB/s\u001b[0m eta \u001b[36m0:00:01\u001b[0m\r\u001b[2K     \u001b[91m━━━━━━━━━━━━━━━━━━━━━━━━━\u001b[0m\u001b[91m╸\u001b[0m\u001b[90m━━━━━━━━━━━━━━\u001b[0m \u001b[32m1.3/2.0 MB\u001b[0m \u001b[31m12.3 MB/s\u001b[0m eta \u001b[36m0:00:01\u001b[0m\r\u001b[2K     \u001b[91m━━━━━━━━━━━━━━━━━━━━━━━━━━━━━━━━━━━━━━━\u001b[0m\u001b[91m╸\u001b[0m \u001b[32m2.0/2.0 MB\u001b[0m \u001b[31m17.4 MB/s\u001b[0m eta \u001b[36m0:00:01\u001b[0m\r\u001b[2K     \u001b[90m━━━━━━━━━━━━━━━━━━━━━━━━━━━━━━━━━━━━━━━━\u001b[0m \u001b[32m2.0/2.0 MB\u001b[0m \u001b[31m13.1 MB/s\u001b[0m eta \u001b[36m0:00:00\u001b[0m\n",
            "\u001b[?25h  Preparing metadata (setup.py) ... \u001b[?25l\u001b[?25hdone\n",
            "\u001b[2K     \u001b[90m━━━━━━━━━━━━━━━━━━━━━━━━━━━━━━━━━━━━━━\u001b[0m \u001b[32m184.3/184.3 KB\u001b[0m \u001b[31m12.2 MB/s\u001b[0m eta \u001b[36m0:00:00\u001b[0m\n",
            "\u001b[2K     \u001b[90m━━━━━━━━━━━━━━━━━━━━━━━━━━━━━━━━━━━━━━\u001b[0m \u001b[32m184.3/184.3 KB\u001b[0m \u001b[31m10.3 MB/s\u001b[0m eta \u001b[36m0:00:00\u001b[0m\n",
            "\u001b[2K     \u001b[90m━━━━━━━━━━━━━━━━━━━━━━━━━━━━━━━━━━━━━━━━\u001b[0m \u001b[32m62.7/62.7 KB\u001b[0m \u001b[31m4.9 MB/s\u001b[0m eta \u001b[36m0:00:00\u001b[0m\n",
            "\u001b[?25h  Building wheel for pathtools (setup.py) ... \u001b[?25l\u001b[?25hdone\n",
            "  Preparing metadata (setup.py) ... \u001b[?25l\u001b[?25hdone\n",
            "  Preparing metadata (setup.py) ... \u001b[?25l\u001b[?25hdone\n",
            "  Preparing metadata (setup.py) ... \u001b[?25l\u001b[?25hdone\n",
            "  Installing build dependencies ... \u001b[?25l\u001b[?25hdone\n",
            "  Getting requirements to build wheel ... \u001b[?25l\u001b[?25hdone\n",
            "  Preparing metadata (pyproject.toml) ... \u001b[?25l\u001b[?25hdone\n",
            "\u001b[2K     \u001b[90m━━━━━━━━━━━━━━━━━━━━━━━━━━━━━━━━━━━━━━━━\u001b[0m \u001b[32m1.1/1.1 MB\u001b[0m \u001b[31m14.7 MB/s\u001b[0m eta \u001b[36m0:00:00\u001b[0m\n",
            "\u001b[?25h  Building wheel for convRFF (setup.py) ... \u001b[?25l\u001b[?25hdone\n",
            "  Building wheel for gdown (pyproject.toml) ... \u001b[?25l\u001b[?25hdone\n",
            "  Building wheel for gcpds.image_segmentation (setup.py) ... \u001b[?25l\u001b[?25hdone\n",
            "  Building wheel for tf-keras-vis (setup.py) ... \u001b[?25l\u001b[?25hdone\n"
          ]
        }
      ],
      "source": [
        "!pip install wandb --quiet \n",
        "!pip install -U git+https://github.com/aguirrejuan/ConvRFF.git@2d8b48f9f3825192585430fa3285b675d263e560 --quiet"
      ]
    },
    {
      "cell_type": "code",
      "execution_count": null,
      "metadata": {
        "id": "Vj9QNT8GGJ7J"
      },
      "outputs": [],
      "source": [
        "from google.colab import drive\n",
        "drive.mount('/content/drive', force_remount=True)"
      ]
    },
    {
      "cell_type": "code",
      "execution_count": null,
      "metadata": {
        "id": "4mb0iKvLq_SC"
      },
      "outputs": [],
      "source": [
        "import os \n",
        "import numpy as np \n",
        "\n",
        "import wandb \n",
        "from convRFF.models import load_model\n",
        "\n",
        "from convRFF.data import get_data\n",
        "from gcpds.image_segmentation.datasets.segmentation import InfraredThermalFeet\n",
        "\n",
        "from convRFF.class_activation_maps import gen_calculate\n",
        "from convRFF.class_activation_maps import save_mimic_mmap\n",
        "from convRFF.class_activation_maps import load_mimic_mmap\n",
        "\n",
        "from tf_keras_vis.layercam import Layercam\n",
        "from tf_keras_vis.utils.model_modifiers import ReplaceToLinear\n",
        "from gcpds.image_segmentation.class_activation_maps import SegScore"
      ]
    },
    {
      "cell_type": "code",
      "execution_count": null,
      "metadata": {
        "id": "VkpHV-PeuPKg"
      },
      "outputs": [],
      "source": [
        "def load_model_from_run(run, model_name= 'model-best.h5'):\n",
        "    path = run.file(model_name).download(replace=True).name\n",
        "    model = load_model(path)\n",
        "    return model\n",
        "\n",
        "def calculate_and_save_cam_data(cam_method, model, data, file_path, batch_size=32, targe_classes=[0,1], model_name=None):\n",
        "    layers = [layer.name for layer in model.layers if 'Conv' in layer.name or 'Line' in layer.name]\n",
        "    if model_name.startswith('f'):\n",
        "        layers.extend(['Pool30','Pool40'])\n",
        "    elif model_name.startswith('r'):\n",
        "        layers.extend(['Res01_Act01','Res03_Act01','Res05_Act01','Res07_Act01'])\n",
        "    print(layers)\n",
        "    total_rows = len(layers)\n",
        "    generator = gen_calculate(cam_method, layers, data.batch(batch_size), targe_classes)\n",
        "    save_mimic_mmap(generator, file_path, dtype=DTYPE)\n",
        "\n",
        "def get_path_run(run,root_path):\n",
        "    run_id = '_'.join([*run.path,run.config['model']])\n",
        "    folder_path = os.path.join(root_path, run_id)\n",
        "    return folder_path\n",
        "\n",
        "def cam_data(run, cam_class, data, root_path,targe_classes, batch_size=32, \n",
        "                name_file='cam_data.mimic_memmap', rewrite=False):\n",
        "    model = load_model_from_run(run) \n",
        "    cam_method = cam_class(model,\n",
        "                           model_modifier=ReplaceToLinear(),\n",
        "                            clone=True)\n",
        "    folder_path = get_path_run(run,root_path)\n",
        "    os.makedirs(folder_path, exist_ok=True)\n",
        "    file_path = os.path.join(folder_path,name_file)\n",
        "\n",
        "    if rewrite or not os.path.exists(file_path):\n",
        "        calculate_and_save_cam_data(cam_method, model, data, file_path ,batch_size=batch_size,targe_classes=targe_classes, model_name=run.config['model'])\n",
        "    "
      ]
    },
    {
      "cell_type": "code",
      "execution_count": null,
      "metadata": {
        "colab": {
          "base_uri": "https://localhost:8080/",
          "height": 52
        },
        "id": "ZD3w5G_Gu3JZ",
        "outputId": "a37e5f10-f1c7-4db0-e32d-a62954364a7c"
      },
      "outputs": [
        {
          "data": {
            "application/javascript": "\n        window._wandbApiKey = new Promise((resolve, reject) => {\n            function loadScript(url) {\n            return new Promise(function(resolve, reject) {\n                let newScript = document.createElement(\"script\");\n                newScript.onerror = reject;\n                newScript.onload = resolve;\n                document.body.appendChild(newScript);\n                newScript.src = url;\n            });\n            }\n            loadScript(\"https://cdn.jsdelivr.net/npm/postmate/build/postmate.min.js\").then(() => {\n            const iframe = document.createElement('iframe')\n            iframe.style.cssText = \"width:0;height:0;border:none\"\n            document.body.appendChild(iframe)\n            const handshake = new Postmate({\n                container: iframe,\n                url: 'https://wandb.ai/authorize'\n            });\n            const timeout = setTimeout(() => reject(\"Couldn't auto authenticate\"), 5000)\n            handshake.then(function(child) {\n                child.on('authorize', data => {\n                    clearTimeout(timeout)\n                    resolve(data)\n                });\n            });\n            })\n        });\n    ",
            "text/plain": [
              "<IPython.core.display.Javascript object>"
            ]
          },
          "metadata": {},
          "output_type": "display_data"
        },
        {
          "name": "stderr",
          "output_type": "stream",
          "text": [
            "\u001b[34m\u001b[1mwandb\u001b[0m: Appending key for api.wandb.ai to your netrc file: /root/.netrc\n"
          ]
        }
      ],
      "source": [
        "WANDB_PROJECT = 'thesis_experiments'\n",
        "ROOT_FOLDER = 'ROOT_FOLDER_TO_SAVE_CAMS'\n",
        "\n",
        "api = wandb.Api()\n",
        "runs = api.runs(WANDB_PROJECT)"
      ]
    },
    {
      "cell_type": "code",
      "execution_count": null,
      "metadata": {
        "colab": {
          "base_uri": "https://localhost:8080/"
        },
        "id": "hb_5cHtmx8C8",
        "outputId": "7f1beb0d-d12b-40c3-dc41-bc3f089a0427"
      },
      "outputs": [
        {
          "name": "stdout",
          "output_type": "stream",
          "text": [
            "hz0pen55\n",
            "['Conv10', 'Conv11', 'Conv20', 'Conv21', 'Conv30', 'Conv31', 'Conv40', 'Conv41', 'Conv50', 'Conv51', 'Conv04', 'Conv60', 'Conv61', 'Conv03', 'Conv70', 'Conv71', 'Conv02', 'Conv80', 'Conv81', 'Conv01', 'Conv90', 'Conv91', 'Conv100']\n"
          ]
        },
        {
          "name": "stderr",
          "output_type": "stream",
          "text": [
            "23it [01:49,  4.74s/it]\n"
          ]
        },
        {
          "name": "stdout",
          "output_type": "stream",
          "text": [
            "w2tlsz06\n",
            "['Conv10', 'Conv11', 'Conv20', 'Conv21', 'Conv30', 'Conv31', 'Conv40', 'Conv41', 'Conv50', 'Conv51', 'ConvRFF_04', 'Conv60', 'Conv61', 'ConvRFF_03', 'Conv70', 'Conv71', 'ConvRFF_02', 'Conv80', 'Conv81', 'ConvRFF_01', 'Conv90', 'Conv91', 'Conv100']\n"
          ]
        },
        {
          "name": "stderr",
          "output_type": "stream",
          "text": [
            "23it [01:45,  4.61s/it]\n"
          ]
        },
        {
          "name": "stdout",
          "output_type": "stream",
          "text": [
            "xqfrem5b\n",
            "['Conv10', 'Conv11', 'Conv20', 'Conv21', 'Conv30', 'Conv31', 'Conv40', 'Conv41', 'Conv50', 'Conv51', 'ConvRFF_04', 'Conv60', 'Conv61', 'ConvRFF_03', 'Conv70', 'Conv71', 'ConvRFF_02', 'Conv80', 'Conv81', 'ConvRFF_01', 'Conv90', 'Conv91', 'Conv100']\n"
          ]
        },
        {
          "name": "stderr",
          "output_type": "stream",
          "text": [
            "23it [01:32,  4.01s/it]\n"
          ]
        },
        {
          "name": "stdout",
          "output_type": "stream",
          "text": [
            "xo54wof3\n",
            "['Res00_Conv00', 'Res00_Conv01', 'Res00_Conv02', 'Res01_Conv00', 'Res01_Conv01', 'Res01_Conv02', 'Res02_Conv00', 'Res02_Conv01', 'Res02_Conv02', 'Res03_Conv00', 'Res03_Conv01', 'Res03_Conv02', 'Res04_Conv00', 'Res04_Conv01', 'Res04_Conv02', 'Res05_Conv00', 'Res05_Conv01', 'Res05_Conv02', 'Res06_Conv00', 'Res06_Conv01', 'Res06_Conv02', 'Res07_Conv00', 'Res07_Conv01', 'Res07_Conv02', 'Res08_Conv00', 'Res08_Conv01', 'Res08_Conv02', 'Res09_Conv00', 'Res09_Conv01', 'Res09_Conv02', 'ConvRFF_04', 'Res10_Conv00', 'Res10_Conv01', 'Res10_Conv02', 'Res11_Conv00', 'Res11_Conv01', 'Res11_Conv02', 'ConvRFF_03', 'Res12_Conv00', 'Res12_Conv01', 'Res12_Conv02', 'Res13_Conv00', 'Res13_Conv01', 'Res13_Conv02', 'ConvRFF_02', 'Res14_Conv00', 'Res14_Conv01', 'Res14_Conv02', 'Res15_Conv00', 'Res15_Conv01', 'Res15_Conv02', 'ConvRFF_01', 'Res16_Conv00', 'Res16_Conv01', 'Res16_Conv02', 'Res17_Conv00', 'Res17_Conv01', 'Res17_Conv02', 'Res01_Act01', 'Res03_Act01', 'Res05_Act01', 'Res07_Act01']\n"
          ]
        },
        {
          "name": "stderr",
          "output_type": "stream",
          "text": [
            "62it [05:49,  5.64s/it]\n"
          ]
        },
        {
          "name": "stdout",
          "output_type": "stream",
          "text": [
            "atgged0u\n",
            "['Res00_Conv00', 'Res00_Conv01', 'Res00_Conv02', 'Res01_Conv00', 'Res01_Conv01', 'Res01_Conv02', 'Res02_Conv00', 'Res02_Conv01', 'Res02_Conv02', 'Res03_Conv00', 'Res03_Conv01', 'Res03_Conv02', 'Res04_Conv00', 'Res04_Conv01', 'Res04_Conv02', 'Res05_Conv00', 'Res05_Conv01', 'Res05_Conv02', 'Res06_Conv00', 'Res06_Conv01', 'Res06_Conv02', 'Res07_Conv00', 'Res07_Conv01', 'Res07_Conv02', 'Res08_Conv00', 'Res08_Conv01', 'Res08_Conv02', 'Res09_Conv00', 'Res09_Conv01', 'Res09_Conv02', 'ConvRFF_04', 'Res10_Conv00', 'Res10_Conv01', 'Res10_Conv02', 'Res11_Conv00', 'Res11_Conv01', 'Res11_Conv02', 'ConvRFF_03', 'Res12_Conv00', 'Res12_Conv01', 'Res12_Conv02', 'Res13_Conv00', 'Res13_Conv01', 'Res13_Conv02', 'ConvRFF_02', 'Res14_Conv00', 'Res14_Conv01', 'Res14_Conv02', 'Res15_Conv00', 'Res15_Conv01', 'Res15_Conv02', 'ConvRFF_01', 'Res16_Conv00', 'Res16_Conv01', 'Res16_Conv02', 'Res17_Conv00', 'Res17_Conv01', 'Res17_Conv02', 'Res01_Act01', 'Res03_Act01', 'Res05_Act01', 'Res07_Act01']\n"
          ]
        },
        {
          "name": "stderr",
          "output_type": "stream",
          "text": [
            "62it [06:07,  5.93s/it]\n"
          ]
        },
        {
          "name": "stdout",
          "output_type": "stream",
          "text": [
            "tjyzriob\n",
            "['Res00_Conv00', 'Res00_Conv01', 'Res00_Conv02', 'Res01_Conv00', 'Res01_Conv01', 'Res01_Conv02', 'Res02_Conv00', 'Res02_Conv01', 'Res02_Conv02', 'Res03_Conv00', 'Res03_Conv01', 'Res03_Conv02', 'Res04_Conv00', 'Res04_Conv01', 'Res04_Conv02', 'Res05_Conv00', 'Res05_Conv01', 'Res05_Conv02', 'Res06_Conv00', 'Res06_Conv01', 'Res06_Conv02', 'Res07_Conv00', 'Res07_Conv01', 'Res07_Conv02', 'Res08_Conv00', 'Res08_Conv01', 'Res08_Conv02', 'Res09_Conv00', 'Res09_Conv01', 'Res09_Conv02', 'Conv04', 'Res10_Conv00', 'Res10_Conv01', 'Res10_Conv02', 'Res11_Conv00', 'Res11_Conv01', 'Res11_Conv02', 'Conv03', 'Res12_Conv00', 'Res12_Conv01', 'Res12_Conv02', 'Res13_Conv00', 'Res13_Conv01', 'Res13_Conv02', 'Conv02', 'Res14_Conv00', 'Res14_Conv01', 'Res14_Conv02', 'Res15_Conv00', 'Res15_Conv01', 'Res15_Conv02', 'Conv01', 'Res16_Conv00', 'Res16_Conv01', 'Res16_Conv02', 'Res17_Conv00', 'Res17_Conv01', 'Res17_Conv02', 'Res01_Act01', 'Res03_Act01', 'Res05_Act01', 'Res07_Act01']\n"
          ]
        },
        {
          "name": "stderr",
          "output_type": "stream",
          "text": [
            "62it [04:55,  4.77s/it]\n"
          ]
        },
        {
          "name": "stdout",
          "output_type": "stream",
          "text": [
            "m2pciil0\n",
            "['Conv10', 'Conv11', 'Conv20', 'Conv21', 'Conv30', 'Conv31', 'Conv40', 'Conv41', 'Conv50', 'Conv51', 'ConvRFF_02', 'Conv60', 'ConvRFF_01', 'Conv70', 'Pool30', 'Pool40']\n"
          ]
        },
        {
          "name": "stderr",
          "output_type": "stream",
          "text": [
            "16it [01:08,  4.27s/it]\n"
          ]
        },
        {
          "name": "stdout",
          "output_type": "stream",
          "text": [
            "xrrrkopi\n",
            "['Conv10', 'Conv11', 'Conv20', 'Conv21', 'Conv30', 'Conv31', 'Conv40', 'Conv41', 'Conv50', 'Conv51', 'ConvRFF_02', 'Conv60', 'ConvRFF_01', 'Conv70', 'Pool30', 'Pool40']\n"
          ]
        },
        {
          "name": "stderr",
          "output_type": "stream",
          "text": [
            "16it [01:04,  4.01s/it]\n"
          ]
        },
        {
          "name": "stdout",
          "output_type": "stream",
          "text": [
            "qpc82n9c\n",
            "['Conv10', 'Conv11', 'Conv20', 'Conv21', 'Conv30', 'Conv31', 'Conv40', 'Conv41', 'Conv50', 'Conv51', 'Conv02', 'Conv60', 'Conv01', 'Conv70', 'Pool30', 'Pool40']\n"
          ]
        },
        {
          "name": "stderr",
          "output_type": "stream",
          "text": [
            "16it [01:05,  4.08s/it]\n"
          ]
        },
        {
          "name": "stdout",
          "output_type": "stream",
          "text": [
            "tso13pts\n",
            "['Res00_Conv00', 'Res00_Conv01', 'Res00_Conv02', 'Res01_Conv00', 'Res01_Conv01', 'Res01_Conv02', 'Res02_Conv00', 'Res02_Conv01', 'Res02_Conv02', 'Res03_Conv00', 'Res03_Conv01', 'Res03_Conv02', 'Res04_Conv00', 'Res04_Conv01', 'Res04_Conv02', 'Res05_Conv00', 'Res05_Conv01', 'Res05_Conv02', 'Res06_Conv00', 'Res06_Conv01', 'Res06_Conv02', 'Res07_Conv00', 'Res07_Conv01', 'Res07_Conv02', 'Res08_Conv00', 'Res08_Conv01', 'Res08_Conv02', 'Res09_Conv00', 'Res09_Conv01', 'Res09_Conv02', 'Conv04', 'Res10_Conv00', 'Res10_Conv01', 'Res10_Conv02', 'Res11_Conv00', 'Res11_Conv01', 'Res11_Conv02', 'Conv03', 'Res12_Conv00', 'Res12_Conv01', 'Res12_Conv02', 'Res13_Conv00', 'Res13_Conv01', 'Res13_Conv02', 'Conv02', 'Res14_Conv00', 'Res14_Conv01', 'Res14_Conv02', 'Res15_Conv00', 'Res15_Conv01', 'Res15_Conv02', 'Conv01', 'Res16_Conv00', 'Res16_Conv01', 'Res16_Conv02', 'Res17_Conv00', 'Res17_Conv01', 'Res17_Conv02', 'Res01_Act01', 'Res03_Act01', 'Res05_Act01', 'Res07_Act01']\n"
          ]
        },
        {
          "name": "stderr",
          "output_type": "stream",
          "text": [
            "62it [05:14,  5.08s/it]\n"
          ]
        },
        {
          "name": "stdout",
          "output_type": "stream",
          "text": [
            "mun3lx10\n",
            "['Conv10', 'Conv11', 'Conv20', 'Conv21', 'Conv30', 'Conv31', 'Conv40', 'Conv41', 'Conv50', 'Conv51', 'Conv02', 'Conv60', 'Conv01', 'Conv70', 'Pool30', 'Pool40']\n"
          ]
        },
        {
          "name": "stderr",
          "output_type": "stream",
          "text": [
            "16it [00:58,  3.66s/it]\n"
          ]
        },
        {
          "name": "stdout",
          "output_type": "stream",
          "text": [
            "cgkgib7m\n",
            "['Conv10', 'Conv11', 'Conv20', 'Conv21', 'Conv30', 'Conv31', 'Conv40', 'Conv41', 'Conv50', 'Conv51', 'Conv04', 'Conv60', 'Conv61', 'Conv03', 'Conv70', 'Conv71', 'Conv02', 'Conv80', 'Conv81', 'Conv01', 'Conv90', 'Conv91', 'Conv100']\n"
          ]
        },
        {
          "name": "stderr",
          "output_type": "stream",
          "text": [
            "23it [01:34,  4.09s/it]\n"
          ]
        },
        {
          "name": "stdout",
          "output_type": "stream",
          "text": [
            "cbqmtis0\n",
            "['Conv10', 'Conv11', 'Conv20', 'Conv21', 'Conv30', 'Conv31', 'Conv40', 'Conv41', 'Conv50', 'Conv51', 'Conv60', 'Conv61', 'Conv70', 'Conv71', 'Conv80', 'Conv81', 'Conv90', 'Conv91', 'Conv100']\n"
          ]
        },
        {
          "name": "stderr",
          "output_type": "stream",
          "text": [
            "19it [01:03,  3.34s/it]\n"
          ]
        },
        {
          "name": "stdout",
          "output_type": "stream",
          "text": [
            "qav9pmnj\n",
            "['Conv10', 'Conv11', 'Conv20', 'Conv21', 'Conv30', 'Conv31', 'Conv40', 'Conv41', 'Conv50', 'Conv51', 'Conv60', 'Conv70', 'Pool30', 'Pool40']\n"
          ]
        },
        {
          "name": "stderr",
          "output_type": "stream",
          "text": [
            "14it [00:54,  3.86s/it]\n"
          ]
        },
        {
          "name": "stdout",
          "output_type": "stream",
          "text": [
            "04ilqh7l\n",
            "['Res00_Conv00', 'Res00_Conv01', 'Res00_Conv02', 'Res01_Conv00', 'Res01_Conv01', 'Res01_Conv02', 'Res02_Conv00', 'Res02_Conv01', 'Res02_Conv02', 'Res03_Conv00', 'Res03_Conv01', 'Res03_Conv02', 'Res04_Conv00', 'Res04_Conv01', 'Res04_Conv02', 'Res05_Conv00', 'Res05_Conv01', 'Res05_Conv02', 'Res06_Conv00', 'Res06_Conv01', 'Res06_Conv02', 'Res07_Conv00', 'Res07_Conv01', 'Res07_Conv02', 'Res08_Conv00', 'Res08_Conv01', 'Res08_Conv02', 'Res09_Conv00', 'Res09_Conv01', 'Res09_Conv02', 'Res10_Conv00', 'Res10_Conv01', 'Res10_Conv02', 'Res11_Conv00', 'Res11_Conv01', 'Res11_Conv02', 'Res12_Conv00', 'Res12_Conv01', 'Res12_Conv02', 'Res13_Conv00', 'Res13_Conv01', 'Res13_Conv02', 'Res14_Conv00', 'Res14_Conv01', 'Res14_Conv02', 'Res15_Conv00', 'Res15_Conv01', 'Res15_Conv02', 'Res16_Conv00', 'Res16_Conv01', 'Res16_Conv02', 'Res17_Conv00', 'Res17_Conv01', 'Res17_Conv02', 'Res01_Act01', 'Res03_Act01', 'Res05_Act01', 'Res07_Act01']\n"
          ]
        },
        {
          "name": "stderr",
          "output_type": "stream",
          "text": [
            "53it [03:59,  5.22s/it]"
          ]
        }
      ],
      "source": [
        "import tensorflow as tf\n",
        "\n",
        "\n",
        "cam_class = Layercam\n",
        "root_path = ROOT_FOLDER\n",
        "\n",
        "datasets = ['infrared_thermal_feet_nodataaug', 'infrared_thermal_feet']\n",
        "\n",
        "for dataset in datasets: \n",
        "    if dataset == 'infrared_thermal_feet':\n",
        "        data, *_ = get_data(InfraredThermalFeet, data_augmentation=False, return_label_info=True,shape=224, split=[0.1,0.1])\n",
        "        data = data.unbatch()\n",
        "        name_file = 'infrared_thermal_feet_layercam_mimic_memmap'\n",
        "        targe_classes = [0,1]\n",
        "        ids = [run.id for run in runs if  run.state=='finished' and run.config['dataset'] == 'infrared_thermal_feet' and run.sweep.id == '6l60ok26' and (run.config['model'] !=  'u_r_b')]\n",
        "        DTYPE = np.dtype([('info_instance', 'U50', (134,2)),  \n",
        "                    ('cam', np.float32, (134,224, 224, 2))\n",
        "                    ])\n",
        "        \n",
        "    elif dataset == 'infrared_thermal_feet_nodataaug':\n",
        "        data, *_ = get_data(InfraredThermalFeet, data_augmentation=False, return_label_info=True,shape=224, split=[0.1,0.1])\n",
        "        data = data.unbatch()\n",
        "        name_file = 'infrared_thermal_feet_layercam.mimic_memmap'\n",
        "        targe_classes = [0,1]\n",
        "        ids = [run.id for run in runs if  run.state=='finished' and run.config['dataset'] == 'infrared_thermal_feet_nodataaug' and run.sweep.id == 'hg11kida' and (run.config['model'] !=  'u_r_b')]\n",
        "        DTYPE = np.dtype([('info_instance', 'U50', (134,2)),  \n",
        "                    ('cam', np.float32, (134,224, 224, 2))\n",
        "                    ]) \n",
        "\n",
        "\n",
        "    for id_ in ids:\n",
        "        print(id_)\n",
        "        run = [run for run in runs if run.id ==id_][0]\n",
        "        cam_data(run, cam_class, data, root_path,targe_classes, batch_size=32, name_file=name_file, rewrite=True)"
      ]
    }
  ],
  "metadata": {
    "accelerator": "GPU",
    "colab": {
      "machine_shape": "hm",
      "provenance": []
    },
    "gpuClass": "standard",
    "kernelspec": {
      "display_name": "Python 3",
      "name": "python3"
    },
    "language_info": {
      "name": "python"
    }
  },
  "nbformat": 4,
  "nbformat_minor": 0
}
